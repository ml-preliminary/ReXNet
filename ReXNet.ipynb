{
 "cells": [
  {
   "cell_type": "markdown",
   "metadata": {},
   "source": [
    "# 模型搭建"
   ]
  },
  {
   "cell_type": "code",
   "execution_count": 1,
   "metadata": {
    "collapsed": false,
    "execution": {
     "iopub.execute_input": "2024-06-23T12:30:03.610430Z",
     "iopub.status.busy": "2024-06-23T12:30:03.609684Z",
     "iopub.status.idle": "2024-06-23T12:30:05.725830Z",
     "shell.execute_reply": "2024-06-23T12:30:05.724783Z",
     "shell.execute_reply.started": "2024-06-23T12:30:03.610390Z"
    },
    "jupyter": {
     "outputs_hidden": false
    },
    "scrolled": true
   },
   "outputs": [
    {
     "name": "stderr",
     "output_type": "stream",
     "text": [
      "/opt/conda/envs/python35-paddle120-env/lib/python3.7/site-packages/paddle/fluid/layers/utils.py:26: DeprecationWarning: `np.int` is a deprecated alias for the builtin `int`. To silence this warning, use `int` by itself. Doing this will not modify any behavior and is safe. When replacing `np.int`, you may wish to use e.g. `np.int64` or `np.int32` to specify the precision. If you wish to review your current use, check the release note link for additional information.\r\n",
      "Deprecated in NumPy 1.20; for more details and guidance: https://numpy.org/devdocs/release/1.20.0-notes.html#deprecations\r\n",
      "  def convert_to_list(value, n, name, dtype=np.int):\r\n"
     ]
    }
   ],
   "source": [
    "import paddle\n",
    "import paddle.nn as nn\n",
    "from math import ceil"
   ]
  },
  {
   "cell_type": "markdown",
   "metadata": {},
   "source": [
    "## 基础模块\n",
    "* ConvBN、Swish 和 SE 模块"
   ]
  },
  {
   "cell_type": "code",
   "execution_count": 2,
   "metadata": {
    "collapsed": false,
    "execution": {
     "iopub.execute_input": "2024-06-23T12:30:07.432112Z",
     "iopub.status.busy": "2024-06-23T12:30:07.431236Z",
     "iopub.status.idle": "2024-06-23T12:30:07.442720Z",
     "shell.execute_reply": "2024-06-23T12:30:07.441943Z",
     "shell.execute_reply.started": "2024-06-23T12:30:07.432069Z"
    },
    "jupyter": {
     "outputs_hidden": false
    },
    "scrolled": true
   },
   "outputs": [],
   "source": [
    "def ConvBN(out, in_channels, channels, kernel=1, stride=1, pad=0, num_group=1, act=None):\n",
    "    out.append(nn.Conv2D(in_channels, channels, kernel,\n",
    "                         stride, pad, groups=num_group, bias_attr=False))\n",
    "    out.append(nn.BatchNorm2D(channels))\n",
    "    if act == 'swish':\n",
    "        out.append(Swish())\n",
    "    elif act == 'relu':\n",
    "        out.append(nn.ReLU())\n",
    "    elif act == 'relu6':\n",
    "        out.append(nn.ReLU6())\n",
    "\n",
    "\n",
    "class Swish(nn.Layer):\n",
    "    def __init__(self):\n",
    "        super(Swish, self).__init__()\n",
    "\n",
    "    def forward(self, x):\n",
    "        return x * nn.functional.sigmoid(x)\n",
    "\n",
    "\n",
    "class SE(nn.Layer):\n",
    "    def __init__(self, in_channels, channels, se_ratio=12):\n",
    "        super(SE, self).__init__()\n",
    "        self.avg_pool = nn.AdaptiveAvgPool2D(1)\n",
    "        self.fc = nn.Sequential(\n",
    "            nn.Conv2D(in_channels, channels // se_ratio,\n",
    "                      kernel_size=1, padding=0),\n",
    "            nn.BatchNorm2D(channels // se_ratio),\n",
    "            nn.ReLU(),\n",
    "            nn.Conv2D(channels // se_ratio, channels,\n",
    "                      kernel_size=1, padding=0),\n",
    "            nn.Sigmoid()\n",
    "        )\n",
    "\n",
    "    def forward(self, x):\n",
    "        y = self.avg_pool(x)\n",
    "        y = self.fc(y)\n",
    "        return x * y"
   ]
  },
  {
   "cell_type": "markdown",
   "metadata": {},
   "source": [
    "## LinearBottleneck"
   ]
  },
  {
   "cell_type": "code",
   "execution_count": 3,
   "metadata": {
    "collapsed": false,
    "execution": {
     "iopub.execute_input": "2024-06-23T12:30:09.766329Z",
     "iopub.status.busy": "2024-06-23T12:30:09.765583Z",
     "iopub.status.idle": "2024-06-23T12:30:09.775282Z",
     "shell.execute_reply": "2024-06-23T12:30:09.773915Z",
     "shell.execute_reply.started": "2024-06-23T12:30:09.766292Z"
    },
    "jupyter": {
     "outputs_hidden": false
    },
    "scrolled": true
   },
   "outputs": [],
   "source": [
    "class LinearBottleneck(nn.Layer):\n",
    "    def __init__(self, in_channels, channels, t, stride, use_se=True, se_ratio=12):\n",
    "        super(LinearBottleneck, self).__init__()\n",
    "        self.use_shortcut = stride == 1 and in_channels <= channels\n",
    "        self.in_channels = in_channels\n",
    "        self.out_channels = channels\n",
    "\n",
    "        out = []\n",
    "        if t != 1:\n",
    "            dw_channels = in_channels * t\n",
    "            ConvBN(out, in_channels=in_channels,\n",
    "                   channels=dw_channels, act='swish')\n",
    "        else:\n",
    "            dw_channels = in_channels\n",
    "\n",
    "        ConvBN(out, in_channels=dw_channels, channels=dw_channels, kernel=3, stride=stride, pad=1,\n",
    "               num_group=dw_channels)\n",
    "\n",
    "        if use_se:\n",
    "            out.append(SE(dw_channels, dw_channels, se_ratio))\n",
    "\n",
    "        out.append(nn.ReLU6())\n",
    "        ConvBN(out, in_channels=dw_channels, channels=channels)\n",
    "        self.out = nn.Sequential(*out)\n",
    "\n",
    "    def forward(self, x):\n",
    "        out = self.out(x)\n",
    "        if self.use_shortcut:\n",
    "            out[:, 0:self.in_channels] += x\n",
    "\n",
    "        return out"
   ]
  },
  {
   "cell_type": "markdown",
   "metadata": {},
   "source": [
    "## ReXNet"
   ]
  },
  {
   "cell_type": "code",
   "execution_count": 4,
   "metadata": {
    "collapsed": false,
    "execution": {
     "iopub.execute_input": "2024-06-23T12:30:12.448703Z",
     "iopub.status.busy": "2024-06-23T12:30:12.447921Z",
     "iopub.status.idle": "2024-06-23T12:30:12.463197Z",
     "shell.execute_reply": "2024-06-23T12:30:12.462279Z",
     "shell.execute_reply.started": "2024-06-23T12:30:12.448661Z"
    },
    "jupyter": {
     "outputs_hidden": false
    },
    "scrolled": true
   },
   "outputs": [],
   "source": [
    "class ReXNetV1(nn.Layer):\n",
    "    def __init__(self, input_ch=16, final_ch=180, width_mult=1.0, depth_mult=1.0,\n",
    "                 class_dim=1000, use_se=True, se_ratio=12, dropout_ratio=0.2):\n",
    "        super(ReXNetV1, self).__init__()\n",
    "\n",
    "        layers = [1, 2, 2, 3, 3, 5]\n",
    "        strides = [1, 2, 2, 2, 1, 2]\n",
    "        use_ses = [False, False, True, True, True, True]\n",
    "\n",
    "        layers = [ceil(element * depth_mult) for element in layers]\n",
    "        strides = sum([[element] + [1] * (layers[idx] - 1)\n",
    "                       for idx, element in enumerate(strides)], [])\n",
    "        if use_se:\n",
    "            use_ses = sum([[element] * layers[idx]\n",
    "                           for idx, element in enumerate(use_ses)], [])\n",
    "        else:\n",
    "            use_ses = [False] * sum(layers[:])\n",
    "        ts = [1] * layers[0] + [6] * sum(layers[1:])\n",
    "\n",
    "        self.depth = sum(layers[:]) * 3\n",
    "        stem_channel = 32 / width_mult if width_mult < 1.0 else 32\n",
    "        inplanes = input_ch / width_mult if width_mult < 1.0 else input_ch\n",
    "\n",
    "        features = []\n",
    "        in_channels_group = []\n",
    "        channels_group = []\n",
    "\n",
    "        # The following channel configuration is a simple instance to make each layer become an expand layer.\n",
    "        for i in range(self.depth // 3):\n",
    "            if i == 0:\n",
    "                in_channels_group.append(int(round(stem_channel * width_mult)))\n",
    "                channels_group.append(int(round(inplanes * width_mult)))\n",
    "            else:\n",
    "                in_channels_group.append(int(round(inplanes * width_mult)))\n",
    "                inplanes += final_ch / (self.depth // 3 * 1.0)\n",
    "                channels_group.append(int(round(inplanes * width_mult)))\n",
    "\n",
    "        ConvBN(features, 3, int(round(stem_channel * width_mult)),\n",
    "               kernel=3, stride=2, pad=1, act='swish')\n",
    "\n",
    "        for block_idx, (in_c, c, t, s, se) in enumerate(zip(in_channels_group, channels_group, ts, strides, use_ses)):\n",
    "            features.append(LinearBottleneck(in_channels=in_c,\n",
    "                                             channels=c,\n",
    "                                             t=t,\n",
    "                                             stride=s,\n",
    "                                             use_se=se, se_ratio=se_ratio))\n",
    "\n",
    "        pen_channels = int(1280 * width_mult)\n",
    "        ConvBN(features, c, pen_channels, act='swish')\n",
    "\n",
    "        features.append(nn.AdaptiveAvgPool2D(1))\n",
    "        self.features = nn.Sequential(*features)\n",
    "        self.output = nn.Sequential(\n",
    "            nn.Dropout(dropout_ratio),\n",
    "            nn.Conv2D(pen_channels, class_dim, 1))\n",
    "\n",
    "    def forward(self, x):\n",
    "        x = self.features(x)\n",
    "        x = self.output(x).squeeze()\n",
    "        return x"
   ]
  },
  {
   "cell_type": "markdown",
   "metadata": {},
   "source": [
    "## 预设模型"
   ]
  },
  {
   "cell_type": "code",
   "execution_count": 5,
   "metadata": {
    "collapsed": false,
    "execution": {
     "iopub.execute_input": "2024-06-23T12:30:17.771267Z",
     "iopub.status.busy": "2024-06-23T12:30:17.770627Z",
     "iopub.status.idle": "2024-06-23T12:30:17.777614Z",
     "shell.execute_reply": "2024-06-23T12:30:17.776682Z",
     "shell.execute_reply.started": "2024-06-23T12:30:17.771224Z"
    },
    "jupyter": {
     "outputs_hidden": false
    },
    "scrolled": true
   },
   "outputs": [],
   "source": [
    "def rexnet_100(pretrained=False, **kwargs):\n",
    "    model = ReXNetV1(width_mult=1.0, **kwargs)\n",
    "    return model\n",
    "\n",
    "\n",
    "def rexnet_130(pretrained=False, **kwargs):\n",
    "    model = ReXNetV1(width_mult=1.3, **kwargs)\n",
    "    return model\n",
    "\n",
    "\n",
    "def rexnet_150(pretrained=False, **kwargs):\n",
    "    model = ReXNetV1(width_mult=1.5, **kwargs)\n",
    "    return model\n",
    "\n",
    "\n",
    "def rexnet_200(pretrained=False, **kwargs):\n",
    "    model = ReXNetV1(width_mult=2.0, **kwargs)\n",
    "    return model\n",
    "\n",
    "\n",
    "def rexnet_300(pretrained=False, **kwargs):\n",
    "    model = ReXNetV1(width_mult=3.0, **kwargs)\n",
    "    return model"
   ]
  },
  {
   "cell_type": "markdown",
   "metadata": {},
   "source": [
    "# 模型验证\n",
    "* 加载转换后的官方预训练模型，使用 ImageNet 验证集进行模型测试\n",
    "* 验证精度是否与官方标称一致"
   ]
  },
  {
   "cell_type": "markdown",
   "metadata": {},
   "source": [
    "## 解压数据集"
   ]
  },
  {
   "cell_type": "code",
   "execution_count": 1,
   "metadata": {
    "collapsed": false,
    "execution": {
     "iopub.execute_input": "2024-07-09T06:43:32.968960Z",
     "iopub.status.busy": "2024-07-09T06:43:32.968461Z",
     "iopub.status.idle": "2024-07-09T06:44:08.042751Z",
     "shell.execute_reply": "2024-07-09T06:44:08.041203Z",
     "shell.execute_reply.started": "2024-07-09T06:43:32.968927Z"
    },
    "jupyter": {
     "outputs_hidden": false
    },
    "scrolled": true
   },
   "outputs": [],
   "source": [
    "!mkdir ~/data/ILSVRC2012\n",
    "!tar -xf ~/data/dataset/ILSVRC2012_img_val.tar -C ~/data/ILSVRC2012"
   ]
  },
  {
   "cell_type": "markdown",
   "metadata": {},
   "source": [
    "## 构建数据集\n",
    "* 构建一个 ILSVRC2012 ImageNet 1k 的数据集"
   ]
  },
  {
   "cell_type": "code",
   "execution_count": 7,
   "metadata": {
    "collapsed": false,
    "execution": {
     "iopub.execute_input": "2024-06-23T12:31:20.742079Z",
     "iopub.status.busy": "2024-06-23T12:31:20.741351Z",
     "iopub.status.idle": "2024-06-23T12:31:20.750749Z",
     "shell.execute_reply": "2024-06-23T12:31:20.749920Z",
     "shell.execute_reply.started": "2024-06-23T12:31:20.742039Z"
    },
    "jupyter": {
     "outputs_hidden": false
    },
    "scrolled": true
   },
   "outputs": [],
   "source": [
    "import os\n",
    "import paddle\n",
    "import numpy as np\n",
    "from PIL import Image\n",
    "\n",
    "\n",
    "class ILSVRC2012(paddle.io.Dataset):\n",
    "    def __init__(self, root, label_list, transform):\n",
    "        self.transform = transform\n",
    "        self.root = root\n",
    "        self.label_list = label_list\n",
    "        self.load_datas()\n",
    "\n",
    "    def load_datas(self):\n",
    "        self.imgs = []\n",
    "        self.labels = []\n",
    "        with open(self.label_list, 'r') as f:\n",
    "            for line in f:\n",
    "                img, label = line[:-1].split(' ')\n",
    "                self.imgs.append(os.path.join(self.root, img))\n",
    "                self.labels.append(int(label))\n",
    "\n",
    "    def __getitem__(self, idx):\n",
    "        label = self.labels[idx]\n",
    "        image = self.imgs[idx]\n",
    "        image = Image.open(image).convert('RGB')\n",
    "        image = self.transform(image)\n",
    "        return image.astype('float32'), np.array(label).astype('int64')\n",
    "\n",
    "    def __len__(self):\n",
    "        return len(self.imgs)"
   ]
  },
  {
   "cell_type": "markdown",
   "metadata": {},
   "source": [
    "## 模型验证\n",
    "* ReXNet 的官方标称精度如下：\n",
    "\n",
    "![](https://ai-studio-static-online.cdn.bcebos.com/69b7c2c1fbad4de2bbbf50b8b1793c169f60bbd9334243118e7cc53c001c0fbd)\n"
   ]
  },
  {
   "cell_type": "code",
   "execution_count": 8,
   "metadata": {
    "collapsed": false,
    "execution": {
     "iopub.execute_input": "2024-06-23T12:31:24.118575Z",
     "iopub.status.busy": "2024-06-23T12:31:24.117900Z",
     "iopub.status.idle": "2024-06-23T12:59:40.568534Z",
     "shell.execute_reply": "2024-06-23T12:59:40.567565Z",
     "shell.execute_reply.started": "2024-06-23T12:31:24.118535Z"
    },
    "jupyter": {
     "outputs_hidden": false
    },
    "scrolled": true,
    "tags": []
   },
   "outputs": [
    {
     "name": "stderr",
     "output_type": "stream",
     "text": [
      "W0623 20:31:24.125084   373 device_context.cc:362] Please NOTE: device: 0, GPU Compute Capability: 7.0, Driver API Version: 12.0, Runtime API Version: 10.1\r\n",
      "W0623 20:31:24.130568   373 device_context.cc:372] device: 0, cuDNN Version: 7.6.\r\n"
     ]
    },
    {
     "name": "stdout",
     "output_type": "stream",
     "text": [
      "Eval begin...\r\n",
      "The loss value printed in the log is the current batch, and the metric is the average value of previous step.\r\n"
     ]
    },
    {
     "name": "stderr",
     "output_type": "stream",
     "text": [
      "/opt/conda/envs/python35-paddle120-env/lib/python3.7/site-packages/paddle/tensor/creation.py:143: DeprecationWarning: `np.object` is a deprecated alias for the builtin `object`. To silence this warning, use `object` by itself. Doing this will not modify any behavior and is safe. \r\n",
      "Deprecated in NumPy 1.20; for more details and guidance: https://numpy.org/devdocs/release/1.20.0-notes.html#deprecations\r\n",
      "  if data.dtype == np.object:\r\n",
      "/opt/conda/envs/python35-paddle120-env/lib/python3.7/site-packages/paddle/fluid/dataloader/dataloader_iter.py:89: DeprecationWarning: `np.bool` is a deprecated alias for the builtin `bool`. To silence this warning, use `bool` by itself. Doing this will not modify any behavior and is safe. If you specifically wanted the numpy scalar type, use `np.bool_` here.\r\n",
      "Deprecated in NumPy 1.20; for more details and guidance: https://numpy.org/devdocs/release/1.20.0-notes.html#deprecations\r\n",
      "  if isinstance(slot[0], (np.ndarray, np.bool, numbers.Number)):\r\n",
      "/opt/conda/envs/python35-paddle120-env/lib/python3.7/site-packages/paddle/fluid/layers/utils.py:77: DeprecationWarning: Using or importing the ABCs from 'collections' instead of from 'collections.abc' is deprecated, and in 3.8 it will stop working\r\n",
      "  return (isinstance(seq, collections.Sequence) and\r\n"
     ]
    },
    {
     "name": "stdout",
     "output_type": "stream",
     "text": [
      "step 10/98 - acc_top1: 0.7811 - acc_top5: 0.9396 - 21s/step\r\n",
      "step 20/98 - acc_top1: 0.7836 - acc_top5: 0.9396 - 21s/step\r\n",
      "step 30/98 - acc_top1: 0.7813 - acc_top5: 0.9392 - 21s/step\r\n",
      "step 40/98 - acc_top1: 0.7793 - acc_top5: 0.9383 - 20s/step\r\n",
      "step 50/98 - acc_top1: 0.7792 - acc_top5: 0.9389 - 19s/step\r\n",
      "step 60/98 - acc_top1: 0.7797 - acc_top5: 0.9386 - 18s/step\r\n",
      "step 70/98 - acc_top1: 0.7785 - acc_top5: 0.9386 - 18s/step\r\n",
      "step 80/98 - acc_top1: 0.7789 - acc_top5: 0.9385 - 17s/step\r\n",
      "step 90/98 - acc_top1: 0.7786 - acc_top5: 0.9385 - 17s/step\r\n",
      "step 98/98 - acc_top1: 0.7786 - acc_top5: 0.9387 - 17s/step\r\n",
      "Eval samples: 50000\r\n"
     ]
    },
    {
     "data": {
      "text/plain": [
       "{'acc_top1': 0.77862, 'acc_top5': 0.93868}"
      ]
     },
     "execution_count": 8,
     "metadata": {},
     "output_type": "execute_result"
    }
   ],
   "source": [
    "import paddle.vision.transforms as T\n",
    "\n",
    "model = rexnet_100()\n",
    "model.set_dict(paddle.load('data/pretrained/rexnetv1_1.0x.pdparams'))\n",
    "model = paddle.Model(model)\n",
    "model.prepare(metrics=paddle.metric.Accuracy(topk=(1, 5)))\n",
    "\n",
    "val_transforms = T.Compose([\n",
    "    T.Resize(256, interpolation='bicubic'),\n",
    "    T.CenterCrop(224),\n",
    "    T.ToTensor(),\n",
    "    T.Normalize(mean=[0.485, 0.456, 0.406], std=[0.229, 0.224, 0.225])\n",
    "])\n",
    "val_dataset = ILSVRC2012('data/ILSVRC2012', transform=val_transforms, label_list='data/dataset/val_list.txt')\n",
    "\n",
    "model.evaluate(val_dataset, batch_size=512)"
   ]
  },
  {
   "cell_type": "code",
   "execution_count": 9,
   "metadata": {
    "execution": {
     "iopub.execute_input": "2024-06-23T13:03:11.210428Z",
     "iopub.status.busy": "2024-06-23T13:03:11.209670Z",
     "iopub.status.idle": "2024-06-23T13:03:11.276920Z",
     "shell.execute_reply": "2024-06-23T13:03:11.275566Z",
     "shell.execute_reply.started": "2024-06-23T13:03:11.210388Z"
    },
    "scrolled": true
   },
   "outputs": [
    {
     "name": "stdout",
     "output_type": "stream",
     "text": [
      "--------------------------------------------------------------------------------\r\n",
      "    Layer (type)         Input Shape          Output Shape         Param #    \r\n",
      "================================================================================\r\n",
      "      Conv2D-1        [[1, 3, 224, 224]]   [1, 32, 112, 112]         864      \r\n",
      "   BatchNorm2D-1     [[1, 32, 112, 112]]   [1, 32, 112, 112]         128      \r\n",
      "      Swish-1        [[1, 32, 112, 112]]   [1, 32, 112, 112]          0       \r\n",
      "      Conv2D-2       [[1, 32, 112, 112]]   [1, 32, 112, 112]         288      \r\n",
      "   BatchNorm2D-2     [[1, 32, 112, 112]]   [1, 32, 112, 112]         128      \r\n",
      "      ReLU6-1        [[1, 32, 112, 112]]   [1, 32, 112, 112]          0       \r\n",
      "      Conv2D-3       [[1, 32, 112, 112]]   [1, 16, 112, 112]         512      \r\n",
      "   BatchNorm2D-3     [[1, 16, 112, 112]]   [1, 16, 112, 112]         64       \r\n",
      " LinearBottleneck-1  [[1, 32, 112, 112]]   [1, 16, 112, 112]          0       \r\n",
      "      Conv2D-4       [[1, 16, 112, 112]]   [1, 96, 112, 112]        1,536     \r\n",
      "   BatchNorm2D-4     [[1, 96, 112, 112]]   [1, 96, 112, 112]         384      \r\n",
      "      Swish-2        [[1, 96, 112, 112]]   [1, 96, 112, 112]          0       \r\n",
      "      Conv2D-5       [[1, 96, 112, 112]]    [1, 96, 56, 56]          864      \r\n",
      "   BatchNorm2D-5      [[1, 96, 56, 56]]     [1, 96, 56, 56]          384      \r\n",
      "      ReLU6-2         [[1, 96, 56, 56]]     [1, 96, 56, 56]           0       \r\n",
      "      Conv2D-6        [[1, 96, 56, 56]]     [1, 27, 56, 56]         2,592     \r\n",
      "   BatchNorm2D-6      [[1, 27, 56, 56]]     [1, 27, 56, 56]          108      \r\n",
      " LinearBottleneck-2  [[1, 16, 112, 112]]    [1, 27, 56, 56]           0       \r\n",
      "      Conv2D-7        [[1, 27, 56, 56]]     [1, 162, 56, 56]        4,374     \r\n",
      "   BatchNorm2D-7      [[1, 162, 56, 56]]    [1, 162, 56, 56]         648      \r\n",
      "      Swish-3         [[1, 162, 56, 56]]    [1, 162, 56, 56]          0       \r\n",
      "      Conv2D-8        [[1, 162, 56, 56]]    [1, 162, 56, 56]        1,458     \r\n",
      "   BatchNorm2D-8      [[1, 162, 56, 56]]    [1, 162, 56, 56]         648      \r\n",
      "      ReLU6-3         [[1, 162, 56, 56]]    [1, 162, 56, 56]          0       \r\n",
      "      Conv2D-9        [[1, 162, 56, 56]]    [1, 38, 56, 56]         6,156     \r\n",
      "   BatchNorm2D-9      [[1, 38, 56, 56]]     [1, 38, 56, 56]          152      \r\n",
      " LinearBottleneck-3   [[1, 27, 56, 56]]     [1, 38, 56, 56]           0       \r\n",
      "     Conv2D-10        [[1, 38, 56, 56]]     [1, 228, 56, 56]        8,664     \r\n",
      "   BatchNorm2D-10     [[1, 228, 56, 56]]    [1, 228, 56, 56]         912      \r\n",
      "      Swish-4         [[1, 228, 56, 56]]    [1, 228, 56, 56]          0       \r\n",
      "     Conv2D-11        [[1, 228, 56, 56]]    [1, 228, 28, 28]        2,052     \r\n",
      "   BatchNorm2D-11     [[1, 228, 28, 28]]    [1, 228, 28, 28]         912      \r\n",
      "AdaptiveAvgPool2D-1   [[1, 228, 28, 28]]     [1, 228, 1, 1]           0       \r\n",
      "     Conv2D-12         [[1, 228, 1, 1]]      [1, 19, 1, 1]          4,351     \r\n",
      "   BatchNorm2D-12      [[1, 19, 1, 1]]       [1, 19, 1, 1]           76       \r\n",
      "       ReLU-1          [[1, 19, 1, 1]]       [1, 19, 1, 1]            0       \r\n",
      "     Conv2D-13         [[1, 19, 1, 1]]       [1, 228, 1, 1]         4,560     \r\n",
      "     Sigmoid-1         [[1, 228, 1, 1]]      [1, 228, 1, 1]           0       \r\n",
      "        SE-1          [[1, 228, 28, 28]]    [1, 228, 28, 28]          0       \r\n",
      "      ReLU6-4         [[1, 228, 28, 28]]    [1, 228, 28, 28]          0       \r\n",
      "     Conv2D-14        [[1, 228, 28, 28]]    [1, 50, 28, 28]        11,400     \r\n",
      "   BatchNorm2D-13     [[1, 50, 28, 28]]     [1, 50, 28, 28]          200      \r\n",
      " LinearBottleneck-4   [[1, 38, 56, 56]]     [1, 50, 28, 28]           0       \r\n",
      "     Conv2D-15        [[1, 50, 28, 28]]     [1, 300, 28, 28]       15,000     \r\n",
      "   BatchNorm2D-14     [[1, 300, 28, 28]]    [1, 300, 28, 28]        1,200     \r\n",
      "      Swish-5         [[1, 300, 28, 28]]    [1, 300, 28, 28]          0       \r\n",
      "     Conv2D-16        [[1, 300, 28, 28]]    [1, 300, 28, 28]        2,700     \r\n",
      "   BatchNorm2D-15     [[1, 300, 28, 28]]    [1, 300, 28, 28]        1,200     \r\n",
      "AdaptiveAvgPool2D-2   [[1, 300, 28, 28]]     [1, 300, 1, 1]           0       \r\n",
      "     Conv2D-17         [[1, 300, 1, 1]]      [1, 25, 1, 1]          7,525     \r\n",
      "   BatchNorm2D-16      [[1, 25, 1, 1]]       [1, 25, 1, 1]           100      \r\n",
      "       ReLU-2          [[1, 25, 1, 1]]       [1, 25, 1, 1]            0       \r\n",
      "     Conv2D-18         [[1, 25, 1, 1]]       [1, 300, 1, 1]         7,800     \r\n",
      "     Sigmoid-2         [[1, 300, 1, 1]]      [1, 300, 1, 1]           0       \r\n",
      "        SE-2          [[1, 300, 28, 28]]    [1, 300, 28, 28]          0       \r\n",
      "      ReLU6-5         [[1, 300, 28, 28]]    [1, 300, 28, 28]          0       \r\n",
      "     Conv2D-19        [[1, 300, 28, 28]]    [1, 61, 28, 28]        18,300     \r\n",
      "   BatchNorm2D-17     [[1, 61, 28, 28]]     [1, 61, 28, 28]          244      \r\n",
      " LinearBottleneck-5   [[1, 50, 28, 28]]     [1, 61, 28, 28]           0       \r\n",
      "     Conv2D-20        [[1, 61, 28, 28]]     [1, 366, 28, 28]       22,326     \r\n",
      "   BatchNorm2D-18     [[1, 366, 28, 28]]    [1, 366, 28, 28]        1,464     \r\n",
      "      Swish-6         [[1, 366, 28, 28]]    [1, 366, 28, 28]          0       \r\n",
      "     Conv2D-21        [[1, 366, 28, 28]]    [1, 366, 14, 14]        3,294     \r\n",
      "   BatchNorm2D-19     [[1, 366, 14, 14]]    [1, 366, 14, 14]        1,464     \r\n",
      "AdaptiveAvgPool2D-3   [[1, 366, 14, 14]]     [1, 366, 1, 1]           0       \r\n",
      "     Conv2D-22         [[1, 366, 1, 1]]      [1, 30, 1, 1]         11,010     \r\n",
      "   BatchNorm2D-20      [[1, 30, 1, 1]]       [1, 30, 1, 1]           120      \r\n",
      "       ReLU-3          [[1, 30, 1, 1]]       [1, 30, 1, 1]            0       \r\n",
      "     Conv2D-23         [[1, 30, 1, 1]]       [1, 366, 1, 1]        11,346     \r\n",
      "     Sigmoid-3         [[1, 366, 1, 1]]      [1, 366, 1, 1]           0       \r\n",
      "        SE-3          [[1, 366, 14, 14]]    [1, 366, 14, 14]          0       \r\n",
      "      ReLU6-6         [[1, 366, 14, 14]]    [1, 366, 14, 14]          0       \r\n",
      "     Conv2D-24        [[1, 366, 14, 14]]    [1, 72, 14, 14]        26,352     \r\n",
      "   BatchNorm2D-21     [[1, 72, 14, 14]]     [1, 72, 14, 14]          288      \r\n",
      " LinearBottleneck-6   [[1, 61, 28, 28]]     [1, 72, 14, 14]           0       \r\n",
      "     Conv2D-25        [[1, 72, 14, 14]]     [1, 432, 14, 14]       31,104     \r\n",
      "   BatchNorm2D-22     [[1, 432, 14, 14]]    [1, 432, 14, 14]        1,728     \r\n",
      "      Swish-7         [[1, 432, 14, 14]]    [1, 432, 14, 14]          0       \r\n",
      "     Conv2D-26        [[1, 432, 14, 14]]    [1, 432, 14, 14]        3,888     \r\n",
      "   BatchNorm2D-23     [[1, 432, 14, 14]]    [1, 432, 14, 14]        1,728     \r\n",
      "AdaptiveAvgPool2D-4   [[1, 432, 14, 14]]     [1, 432, 1, 1]           0       \r\n",
      "     Conv2D-27         [[1, 432, 1, 1]]      [1, 36, 1, 1]         15,588     \r\n",
      "   BatchNorm2D-24      [[1, 36, 1, 1]]       [1, 36, 1, 1]           144      \r\n",
      "       ReLU-4          [[1, 36, 1, 1]]       [1, 36, 1, 1]            0       \r\n",
      "     Conv2D-28         [[1, 36, 1, 1]]       [1, 432, 1, 1]        15,984     \r\n",
      "     Sigmoid-4         [[1, 432, 1, 1]]      [1, 432, 1, 1]           0       \r\n",
      "        SE-4          [[1, 432, 14, 14]]    [1, 432, 14, 14]          0       \r\n",
      "      ReLU6-7         [[1, 432, 14, 14]]    [1, 432, 14, 14]          0       \r\n",
      "     Conv2D-29        [[1, 432, 14, 14]]    [1, 84, 14, 14]        36,288     \r\n",
      "   BatchNorm2D-25     [[1, 84, 14, 14]]     [1, 84, 14, 14]          336      \r\n",
      " LinearBottleneck-7   [[1, 72, 14, 14]]     [1, 84, 14, 14]           0       \r\n",
      "     Conv2D-30        [[1, 84, 14, 14]]     [1, 504, 14, 14]       42,336     \r\n",
      "   BatchNorm2D-26     [[1, 504, 14, 14]]    [1, 504, 14, 14]        2,016     \r\n",
      "      Swish-8         [[1, 504, 14, 14]]    [1, 504, 14, 14]          0       \r\n",
      "     Conv2D-31        [[1, 504, 14, 14]]    [1, 504, 14, 14]        4,536     \r\n",
      "   BatchNorm2D-27     [[1, 504, 14, 14]]    [1, 504, 14, 14]        2,016     \r\n",
      "AdaptiveAvgPool2D-5   [[1, 504, 14, 14]]     [1, 504, 1, 1]           0       \r\n",
      "     Conv2D-32         [[1, 504, 1, 1]]      [1, 42, 1, 1]         21,210     \r\n",
      "   BatchNorm2D-28      [[1, 42, 1, 1]]       [1, 42, 1, 1]           168      \r\n",
      "       ReLU-5          [[1, 42, 1, 1]]       [1, 42, 1, 1]            0       \r\n",
      "     Conv2D-33         [[1, 42, 1, 1]]       [1, 504, 1, 1]        21,672     \r\n",
      "     Sigmoid-5         [[1, 504, 1, 1]]      [1, 504, 1, 1]           0       \r\n",
      "        SE-5          [[1, 504, 14, 14]]    [1, 504, 14, 14]          0       \r\n",
      "      ReLU6-8         [[1, 504, 14, 14]]    [1, 504, 14, 14]          0       \r\n",
      "     Conv2D-34        [[1, 504, 14, 14]]    [1, 95, 14, 14]        47,880     \r\n",
      "   BatchNorm2D-29     [[1, 95, 14, 14]]     [1, 95, 14, 14]          380      \r\n",
      " LinearBottleneck-8   [[1, 84, 14, 14]]     [1, 95, 14, 14]           0       \r\n",
      "     Conv2D-35        [[1, 95, 14, 14]]     [1, 570, 14, 14]       54,150     \r\n",
      "   BatchNorm2D-30     [[1, 570, 14, 14]]    [1, 570, 14, 14]        2,280     \r\n",
      "      Swish-9         [[1, 570, 14, 14]]    [1, 570, 14, 14]          0       \r\n",
      "     Conv2D-36        [[1, 570, 14, 14]]    [1, 570, 14, 14]        5,130     \r\n",
      "   BatchNorm2D-31     [[1, 570, 14, 14]]    [1, 570, 14, 14]        2,280     \r\n",
      "AdaptiveAvgPool2D-6   [[1, 570, 14, 14]]     [1, 570, 1, 1]           0       \r\n",
      "     Conv2D-37         [[1, 570, 1, 1]]      [1, 47, 1, 1]         26,837     \r\n",
      "   BatchNorm2D-32      [[1, 47, 1, 1]]       [1, 47, 1, 1]           188      \r\n",
      "       ReLU-6          [[1, 47, 1, 1]]       [1, 47, 1, 1]            0       \r\n",
      "     Conv2D-38         [[1, 47, 1, 1]]       [1, 570, 1, 1]        27,360     \r\n",
      "     Sigmoid-6         [[1, 570, 1, 1]]      [1, 570, 1, 1]           0       \r\n",
      "        SE-6          [[1, 570, 14, 14]]    [1, 570, 14, 14]          0       \r\n",
      "      ReLU6-9         [[1, 570, 14, 14]]    [1, 570, 14, 14]          0       \r\n",
      "     Conv2D-39        [[1, 570, 14, 14]]    [1, 106, 14, 14]       60,420     \r\n",
      "   BatchNorm2D-33     [[1, 106, 14, 14]]    [1, 106, 14, 14]         424      \r\n",
      " LinearBottleneck-9   [[1, 95, 14, 14]]     [1, 106, 14, 14]          0       \r\n",
      "     Conv2D-40        [[1, 106, 14, 14]]    [1, 636, 14, 14]       67,416     \r\n",
      "   BatchNorm2D-34     [[1, 636, 14, 14]]    [1, 636, 14, 14]        2,544     \r\n",
      "      Swish-10        [[1, 636, 14, 14]]    [1, 636, 14, 14]          0       \r\n",
      "     Conv2D-41        [[1, 636, 14, 14]]    [1, 636, 14, 14]        5,724     \r\n",
      "   BatchNorm2D-35     [[1, 636, 14, 14]]    [1, 636, 14, 14]        2,544     \r\n",
      "AdaptiveAvgPool2D-7   [[1, 636, 14, 14]]     [1, 636, 1, 1]           0       \r\n",
      "     Conv2D-42         [[1, 636, 1, 1]]      [1, 53, 1, 1]         33,761     \r\n",
      "   BatchNorm2D-36      [[1, 53, 1, 1]]       [1, 53, 1, 1]           212      \r\n",
      "       ReLU-7          [[1, 53, 1, 1]]       [1, 53, 1, 1]            0       \r\n",
      "     Conv2D-43         [[1, 53, 1, 1]]       [1, 636, 1, 1]        34,344     \r\n",
      "     Sigmoid-7         [[1, 636, 1, 1]]      [1, 636, 1, 1]           0       \r\n",
      "        SE-7          [[1, 636, 14, 14]]    [1, 636, 14, 14]          0       \r\n",
      "      ReLU6-10        [[1, 636, 14, 14]]    [1, 636, 14, 14]          0       \r\n",
      "     Conv2D-44        [[1, 636, 14, 14]]    [1, 117, 14, 14]       74,412     \r\n",
      "   BatchNorm2D-37     [[1, 117, 14, 14]]    [1, 117, 14, 14]         468      \r\n",
      "LinearBottleneck-10   [[1, 106, 14, 14]]    [1, 117, 14, 14]          0       \r\n",
      "     Conv2D-45        [[1, 117, 14, 14]]    [1, 702, 14, 14]       82,134     \r\n",
      "   BatchNorm2D-38     [[1, 702, 14, 14]]    [1, 702, 14, 14]        2,808     \r\n",
      "      Swish-11        [[1, 702, 14, 14]]    [1, 702, 14, 14]          0       \r\n",
      "     Conv2D-46        [[1, 702, 14, 14]]    [1, 702, 14, 14]        6,318     \r\n",
      "   BatchNorm2D-39     [[1, 702, 14, 14]]    [1, 702, 14, 14]        2,808     \r\n",
      "AdaptiveAvgPool2D-8   [[1, 702, 14, 14]]     [1, 702, 1, 1]           0       \r\n",
      "     Conv2D-47         [[1, 702, 1, 1]]      [1, 58, 1, 1]         40,774     \r\n",
      "   BatchNorm2D-40      [[1, 58, 1, 1]]       [1, 58, 1, 1]           232      \r\n",
      "       ReLU-8          [[1, 58, 1, 1]]       [1, 58, 1, 1]            0       \r\n",
      "     Conv2D-48         [[1, 58, 1, 1]]       [1, 702, 1, 1]        41,418     \r\n",
      "     Sigmoid-8         [[1, 702, 1, 1]]      [1, 702, 1, 1]           0       \r\n",
      "        SE-8          [[1, 702, 14, 14]]    [1, 702, 14, 14]          0       \r\n",
      "      ReLU6-11        [[1, 702, 14, 14]]    [1, 702, 14, 14]          0       \r\n",
      "     Conv2D-49        [[1, 702, 14, 14]]    [1, 128, 14, 14]       89,856     \r\n",
      "   BatchNorm2D-41     [[1, 128, 14, 14]]    [1, 128, 14, 14]         512      \r\n",
      "LinearBottleneck-11   [[1, 117, 14, 14]]    [1, 128, 14, 14]          0       \r\n",
      "     Conv2D-50        [[1, 128, 14, 14]]    [1, 768, 14, 14]       98,304     \r\n",
      "   BatchNorm2D-42     [[1, 768, 14, 14]]    [1, 768, 14, 14]        3,072     \r\n",
      "      Swish-12        [[1, 768, 14, 14]]    [1, 768, 14, 14]          0       \r\n",
      "     Conv2D-51        [[1, 768, 14, 14]]     [1, 768, 7, 7]         6,912     \r\n",
      "   BatchNorm2D-43      [[1, 768, 7, 7]]      [1, 768, 7, 7]         3,072     \r\n",
      "AdaptiveAvgPool2D-9    [[1, 768, 7, 7]]      [1, 768, 1, 1]           0       \r\n",
      "     Conv2D-52         [[1, 768, 1, 1]]      [1, 64, 1, 1]         49,216     \r\n",
      "   BatchNorm2D-44      [[1, 64, 1, 1]]       [1, 64, 1, 1]           256      \r\n",
      "       ReLU-9          [[1, 64, 1, 1]]       [1, 64, 1, 1]            0       \r\n",
      "     Conv2D-53         [[1, 64, 1, 1]]       [1, 768, 1, 1]        49,920     \r\n",
      "     Sigmoid-9         [[1, 768, 1, 1]]      [1, 768, 1, 1]           0       \r\n",
      "        SE-9           [[1, 768, 7, 7]]      [1, 768, 7, 7]           0       \r\n",
      "      ReLU6-12         [[1, 768, 7, 7]]      [1, 768, 7, 7]           0       \r\n",
      "     Conv2D-54         [[1, 768, 7, 7]]      [1, 140, 7, 7]        107,520    \r\n",
      "   BatchNorm2D-45      [[1, 140, 7, 7]]      [1, 140, 7, 7]          560      \r\n",
      "LinearBottleneck-12   [[1, 128, 14, 14]]     [1, 140, 7, 7]           0       \r\n",
      "     Conv2D-55         [[1, 140, 7, 7]]      [1, 840, 7, 7]        117,600    \r\n",
      "   BatchNorm2D-46      [[1, 840, 7, 7]]      [1, 840, 7, 7]         3,360     \r\n",
      "      Swish-13         [[1, 840, 7, 7]]      [1, 840, 7, 7]           0       \r\n",
      "     Conv2D-56         [[1, 840, 7, 7]]      [1, 840, 7, 7]         7,560     \r\n",
      "   BatchNorm2D-47      [[1, 840, 7, 7]]      [1, 840, 7, 7]         3,360     \r\n",
      "AdaptiveAvgPool2D-10   [[1, 840, 7, 7]]      [1, 840, 1, 1]           0       \r\n",
      "     Conv2D-57         [[1, 840, 1, 1]]      [1, 70, 1, 1]         58,870     \r\n",
      "   BatchNorm2D-48      [[1, 70, 1, 1]]       [1, 70, 1, 1]           280      \r\n",
      "      ReLU-10          [[1, 70, 1, 1]]       [1, 70, 1, 1]            0       \r\n",
      "     Conv2D-58         [[1, 70, 1, 1]]       [1, 840, 1, 1]        59,640     \r\n",
      "     Sigmoid-10        [[1, 840, 1, 1]]      [1, 840, 1, 1]           0       \r\n",
      "       SE-10           [[1, 840, 7, 7]]      [1, 840, 7, 7]           0       \r\n",
      "      ReLU6-13         [[1, 840, 7, 7]]      [1, 840, 7, 7]           0       \r\n",
      "     Conv2D-59         [[1, 840, 7, 7]]      [1, 151, 7, 7]        126,840    \r\n",
      "   BatchNorm2D-49      [[1, 151, 7, 7]]      [1, 151, 7, 7]          604      \r\n",
      "LinearBottleneck-13    [[1, 140, 7, 7]]      [1, 151, 7, 7]           0       \r\n",
      "     Conv2D-60         [[1, 151, 7, 7]]      [1, 906, 7, 7]        136,806    \r\n",
      "   BatchNorm2D-50      [[1, 906, 7, 7]]      [1, 906, 7, 7]         3,624     \r\n",
      "      Swish-14         [[1, 906, 7, 7]]      [1, 906, 7, 7]           0       \r\n",
      "     Conv2D-61         [[1, 906, 7, 7]]      [1, 906, 7, 7]         8,154     \r\n",
      "   BatchNorm2D-51      [[1, 906, 7, 7]]      [1, 906, 7, 7]         3,624     \r\n",
      "AdaptiveAvgPool2D-11   [[1, 906, 7, 7]]      [1, 906, 1, 1]           0       \r\n",
      "     Conv2D-62         [[1, 906, 1, 1]]      [1, 75, 1, 1]         68,025     \r\n",
      "   BatchNorm2D-52      [[1, 75, 1, 1]]       [1, 75, 1, 1]           300      \r\n",
      "      ReLU-11          [[1, 75, 1, 1]]       [1, 75, 1, 1]            0       \r\n",
      "     Conv2D-63         [[1, 75, 1, 1]]       [1, 906, 1, 1]        68,856     \r\n",
      "     Sigmoid-11        [[1, 906, 1, 1]]      [1, 906, 1, 1]           0       \r\n",
      "       SE-11           [[1, 906, 7, 7]]      [1, 906, 7, 7]           0       \r\n",
      "      ReLU6-14         [[1, 906, 7, 7]]      [1, 906, 7, 7]           0       \r\n",
      "     Conv2D-64         [[1, 906, 7, 7]]      [1, 162, 7, 7]        146,772    \r\n",
      "   BatchNorm2D-53      [[1, 162, 7, 7]]      [1, 162, 7, 7]          648      \r\n",
      "LinearBottleneck-14    [[1, 151, 7, 7]]      [1, 162, 7, 7]           0       \r\n",
      "     Conv2D-65         [[1, 162, 7, 7]]      [1, 972, 7, 7]        157,464    \r\n",
      "   BatchNorm2D-54      [[1, 972, 7, 7]]      [1, 972, 7, 7]         3,888     \r\n",
      "      Swish-15         [[1, 972, 7, 7]]      [1, 972, 7, 7]           0       \r\n",
      "     Conv2D-66         [[1, 972, 7, 7]]      [1, 972, 7, 7]         8,748     \r\n",
      "   BatchNorm2D-55      [[1, 972, 7, 7]]      [1, 972, 7, 7]         3,888     \r\n",
      "AdaptiveAvgPool2D-12   [[1, 972, 7, 7]]      [1, 972, 1, 1]           0       \r\n",
      "     Conv2D-67         [[1, 972, 1, 1]]      [1, 81, 1, 1]         78,813     \r\n",
      "   BatchNorm2D-56      [[1, 81, 1, 1]]       [1, 81, 1, 1]           324      \r\n",
      "      ReLU-12          [[1, 81, 1, 1]]       [1, 81, 1, 1]            0       \r\n",
      "     Conv2D-68         [[1, 81, 1, 1]]       [1, 972, 1, 1]        79,704     \r\n",
      "     Sigmoid-12        [[1, 972, 1, 1]]      [1, 972, 1, 1]           0       \r\n",
      "       SE-12           [[1, 972, 7, 7]]      [1, 972, 7, 7]           0       \r\n",
      "      ReLU6-15         [[1, 972, 7, 7]]      [1, 972, 7, 7]           0       \r\n",
      "     Conv2D-69         [[1, 972, 7, 7]]      [1, 174, 7, 7]        169,128    \r\n",
      "   BatchNorm2D-57      [[1, 174, 7, 7]]      [1, 174, 7, 7]          696      \r\n",
      "LinearBottleneck-15    [[1, 162, 7, 7]]      [1, 174, 7, 7]           0       \r\n",
      "     Conv2D-70         [[1, 174, 7, 7]]     [1, 1044, 7, 7]        181,656    \r\n",
      "   BatchNorm2D-58     [[1, 1044, 7, 7]]     [1, 1044, 7, 7]         4,176     \r\n",
      "      Swish-16        [[1, 1044, 7, 7]]     [1, 1044, 7, 7]           0       \r\n",
      "     Conv2D-71        [[1, 1044, 7, 7]]     [1, 1044, 7, 7]         9,396     \r\n",
      "   BatchNorm2D-59     [[1, 1044, 7, 7]]     [1, 1044, 7, 7]         4,176     \r\n",
      "AdaptiveAvgPool2D-13  [[1, 1044, 7, 7]]     [1, 1044, 1, 1]           0       \r\n",
      "     Conv2D-72        [[1, 1044, 1, 1]]      [1, 87, 1, 1]         90,915     \r\n",
      "   BatchNorm2D-60      [[1, 87, 1, 1]]       [1, 87, 1, 1]           348      \r\n",
      "      ReLU-13          [[1, 87, 1, 1]]       [1, 87, 1, 1]            0       \r\n",
      "     Conv2D-73         [[1, 87, 1, 1]]      [1, 1044, 1, 1]        91,872     \r\n",
      "     Sigmoid-13       [[1, 1044, 1, 1]]     [1, 1044, 1, 1]           0       \r\n",
      "       SE-13          [[1, 1044, 7, 7]]     [1, 1044, 7, 7]           0       \r\n",
      "      ReLU6-16        [[1, 1044, 7, 7]]     [1, 1044, 7, 7]           0       \r\n",
      "     Conv2D-74        [[1, 1044, 7, 7]]      [1, 185, 7, 7]        193,140    \r\n",
      "   BatchNorm2D-61      [[1, 185, 7, 7]]      [1, 185, 7, 7]          740      \r\n",
      "LinearBottleneck-16    [[1, 174, 7, 7]]      [1, 185, 7, 7]           0       \r\n",
      "     Conv2D-75         [[1, 185, 7, 7]]     [1, 1280, 7, 7]        236,800    \r\n",
      "   BatchNorm2D-62     [[1, 1280, 7, 7]]     [1, 1280, 7, 7]         5,120     \r\n",
      "      Swish-17        [[1, 1280, 7, 7]]     [1, 1280, 7, 7]           0       \r\n",
      "AdaptiveAvgPool2D-14  [[1, 1280, 7, 7]]     [1, 1280, 1, 1]           0       \r\n",
      "     Dropout-1        [[1, 1280, 1, 1]]     [1, 1280, 1, 1]           0       \r\n",
      "     Conv2D-76        [[1, 1280, 1, 1]]     [1, 1000, 1, 1]       1,281,000   \r\n",
      "================================================================================\r\n",
      "Total params: 4,838,251\r\n",
      "Trainable params: 4,755,495\r\n",
      "Non-trainable params: 82,756\r\n",
      "--------------------------------------------------------------------------------\r\n",
      "Input size (MB): 0.57\r\n",
      "Forward/backward pass size (MB): 179.96\r\n",
      "Params size (MB): 18.46\r\n",
      "Estimated Total Size (MB): 198.99\r\n",
      "--------------------------------------------------------------------------------\r\n",
      "\r\n"
     ]
    },
    {
     "data": {
      "text/plain": [
       "{'total_params': 4838251, 'trainable_params': 4755495}"
      ]
     },
     "execution_count": 9,
     "metadata": {},
     "output_type": "execute_result"
    }
   ],
   "source": [
    "model.summary((1,3,224,224))"
   ]
  },
  {
   "cell_type": "code",
   "execution_count": null,
   "metadata": {
    "scrolled": true
   },
   "outputs": [],
   "source": []
  }
 ],
 "metadata": {
  "kernelspec": {
   "display_name": "Python 3",
   "language": "python",
   "name": "py35-paddle1.2.0"
  },
  "language_info": {
   "codemirror_mode": {
    "name": "ipython",
    "version": 3
   },
   "file_extension": ".py",
   "mimetype": "text/x-python",
   "name": "python",
   "nbconvert_exporter": "python",
   "pygments_lexer": "ipython3",
   "version": "3.7.4"
  }
 },
 "nbformat": 4,
 "nbformat_minor": 4
}
